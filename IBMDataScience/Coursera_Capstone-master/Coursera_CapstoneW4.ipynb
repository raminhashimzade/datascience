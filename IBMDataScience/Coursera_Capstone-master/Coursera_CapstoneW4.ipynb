{
  "nbformat": 4,
  "nbformat_minor": 0,
  "metadata": {
    "colab": {
      "name": "Coursera_CapstoneW4.ipynb",
      "provenance": []
    },
    "kernelspec": {
      "name": "python3",
      "display_name": "Python 3"
    }
  },
  "cells": [
    {
      "cell_type": "markdown",
      "metadata": {
        "id": "YBf0g5kCW1ga",
        "colab_type": "text"
      },
      "source": [
        "**1. Introduction**\n",
        "\n",
        "Welcome to my final project. This notebook will delve deep into the neighborhoods of BAKU(Azerbaijan) and using the Foursquare API I will try to find venues in each neighborhood. After gathering all of the required data, analysis will follow to help cluster the different neighborhoods and gain insight into which areas are perfect for opening a new business.\n",
        "\n",
        "**2. Business Problem**\n",
        "\n",
        "A client would like to open a new business, however they do not know what kind of business they would like to open, let alone where to open it. In this project, I will determine the optimal areas in BAKU(Azerbaijan) to open a business, as well as the perfect business for that area.\n",
        "\n",
        "**3.DATA**\n",
        "\n",
        "In order to answer the business question set forth in the previous notebook, we will be gathering data from Wikipedia,  Google Maps and using the Foursquare API to collect venue information for each area.The venue data collected from Foursquare will then be used to determine the top venues in each area.\n",
        "\n",
        "Once the venue information is gathered, the next step will be to cluster areas in BAKU(Azerbaijan) based on venues categories. This information will allow us to cluster customers in each area before moving on to identify areas within the clusters which are prime candidates for a new venue, as well as identifying which specific venues would be the most lucrative."
      ]
    },
    {
      "cell_type": "markdown",
      "metadata": {
        "id": "Ylw8G1h-W1oI",
        "colab_type": "text"
      },
      "source": [
        ""
      ]
    }
  ]
}
